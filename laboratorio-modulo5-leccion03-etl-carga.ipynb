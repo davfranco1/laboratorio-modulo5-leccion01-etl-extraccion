{
 "cells": [
  {
   "cell_type": "markdown",
   "metadata": {},
   "source": [
    "<div style=\"text-align: center;\">\n",
    "  <img src=\"https://github.com/Hack-io-Data/Imagenes/blob/main/01-LogosHackio/logo_amarillo@4x.png?raw=true\" alt=\"esquema\" />\n",
    "</div>"
   ]
  },
  {
   "cell_type": "markdown",
   "metadata": {},
   "source": [
    "\n",
    "# Laboratorio ETL: Análisis del Sistema Energético en España\n",
    "\n",
    "## Objetivo\n",
    "\n",
    "Durante todos los laboratorios de esta semana realizarás un proceso completo de ETL para analizar la relación entre la demanda, el consumo y la generación eléctrica en diferentes provincias de España a lo largo de un año. Además, complementarán este análisis con datos demográficos y económicos extraídos del Instituto Nacional de Estadística (INE). El **objetivo principal** del análisis es **examinar cómo la demanda, el consumo y la generación eléctrica en diferentes provincias de España a lo largo de los años están influenciados por factores demográficos y económicos, como la población y el PIB provincial**. El análisis busca identificar patrones y correlaciones entre estas variables para comprender mejor las dinámicas energéticas regionales y su relación con el desarrollo socioeconómico en España.\n",
    "\n",
    "Antes de realizar el análisis, vamos a definir las hipótesis con las que vamos a trabajar, las cuales definirán todo tu análisis y planteamiento de los laboratorios: \n",
    "\n",
    "- **Hipótesis 1: La demanda eléctrica está correlacionada con la población de la provincia.** Provincias con mayor población tienden a tener una mayor demanda eléctrica.\n",
    "  \n",
    "- **Hipótesis 2: El crecimiento económico (medido por el PIB) está correlacionado con el consumo eléctrico.** Las provincias con un PIB más alto o en crecimiento experimentan un mayor consumo de energía.\n",
    "\n",
    "- **Hipótesis 3: La proporción de generación renovable está relacionada con factores económicos o geográficos.** Provincias con un mayor desarrollo económico o con condiciones geográficas favorables (como más horas de sol o viento) tienden a generar más energía renovable.\n",
    "\n",
    "\n",
    "## Tareas Laboratorio Carga\n",
    "\n",
    "En este laboratorio, tu objetivo será diseñar la estructura de una base de datos relacional, crear las tablas necesarias y cargar en ellas los datos limpios y preparados que obtuviste en el laboratorio anterior. Trabajarás con datos relacionados con la demanda, generación eléctrica, y variables socioeconómicas, almacenándolos de manera eficiente para facilitar el análisis y las consultas posteriores.\n",
    "\n",
    "\n",
    "- **Diseño de la Base de Datos:** Define una estructura de base de datos relacional que sea adecuada para almacenar los datos de demanda eléctrica, generación eléctrica, población y PIB por provincia.\n",
    "\n",
    "- **Creación de la Base de Datos:** Escribe los scripts SQL necesarios para crear las tablas definidas en la estructura de la base de datos. Asegúrate de definir correctamente los tipos de datos y las restricciones (e.g., `NOT NULL`, `UNIQUE`).\n",
    "\n",
    "- **Carga de Datos en la Base de Datos:** Utiliza Python para cargar los datos limpios y preparados en las tablas de la base de datos. Asegúrate de que los datos se insertan correctamente, manejando posibles errores o inconsistencias en los datos.\n"
   ]
  },
  {
   "cell_type": "markdown",
   "metadata": {},
   "source": [
    "    "
   ]
  },
  {
   "cell_type": "code",
   "execution_count": 1,
   "metadata": {},
   "outputs": [
    {
     "name": "stderr",
     "output_type": "stream",
     "text": [
      "/Users/davidfranco/Library/Python/3.9/lib/python/site-packages/urllib3/__init__.py:35: NotOpenSSLWarning: urllib3 v2 only supports OpenSSL 1.1.1+, currently the 'ssl' module is compiled with 'LibreSSL 2.8.3'. See: https://github.com/urllib3/urllib3/issues/3020\n",
      "  warnings.warn(\n"
     ]
    }
   ],
   "source": [
    "# Librerías para tratamiento de datos\n",
    "\n",
    "import pandas as pd\n",
    "pd.set_option('display.max_columns', None) # Parámetro que modifica la visualización de los DFs\n",
    "import numpy as np\n",
    "\n",
    "# Librería para el acceso a variables y funciones\n",
    "import sys\n",
    "sys.path.append(\"../\")\n",
    "from src import soporte_funciones as sf #Archivo .py donde encontraremos todas nuestras funciones.\n",
    "from src import soporte_variables as sv\n",
    "\n",
    "# Librería para trabajar con bases de datos SQL\n",
    "import psycopg2\n",
    "from psycopg2 import OperationalError, errorcodes, errors\n",
    "\n",
    "# Librería para ignorar avisos\n",
    "import warnings\n",
    "warnings.filterwarnings(\"ignore\") # Ignora TODOS los avisos"
   ]
  },
  {
   "cell_type": "markdown",
   "metadata": {},
   "source": [
    "<img src=\"datos/diagrama.png\" width=\"300\">"
   ]
  },
  {
   "cell_type": "markdown",
   "metadata": {},
   "source": [
    "# Creación DDBB"
   ]
  },
  {
   "cell_type": "code",
   "execution_count": null,
   "metadata": {},
   "outputs": [
    {
     "name": "stdout",
     "output_type": "stream",
     "text": [
      "La base de datos ya existe\n"
     ]
    }
   ],
   "source": [
    "sf.crear_db(\"SistemaElectrico\")"
   ]
  },
  {
   "cell_type": "markdown",
   "metadata": {},
   "source": [
    "# Listas Tuplas"
   ]
  },
  {
   "cell_type": "code",
   "execution_count": null,
   "metadata": {},
   "outputs": [],
   "source": [
    "csvs = [\"comunidades\", \"demanda\", \"edades\", \"generacion\", \"pib_total\", \"pib\", \"poblacion\", \"provincias\", \"ramas\", \"tipos_energia\"]\n",
    "df_dict = {csv: pd.DataFrame() for csv in csvs}\n",
    "dicc_tuplas = {}\n",
    "\n",
    "# Carga de archivos CSV\n",
    "for csv in csvs:\n",
    "    directorio = f\"datos/DatosFinales/{csv}.csv\"\n",
    "    df_dict[csv] = pd.read_csv(directorio, index_col=0)\n",
    "\n",
    "# Conversión a tuplas (tipo de dato aceptado para cargar datos a una base de datos SQL)\n",
    "for csv in csvs:\n",
    "    dicc_tuplas[csv] = [tuple(fila) for fila in df_dict[csv].values]\n",
    "\n",
    "# Asignación a variables\n",
    "lista_tuplas_comunidades = dicc_tuplas[\"comunidades\"]\n",
    "lista_tuplas_demanda = dicc_tuplas[\"demanda\"]\n",
    "lista_tuplas_edades = dicc_tuplas[\"edades\"]\n",
    "lista_tuplas_generacion = dicc_tuplas[\"generacion\"]\n",
    "lista_tuplas_pib_total = dicc_tuplas[\"pib_total\"]\n",
    "lista_tuplas_pib = dicc_tuplas[\"pib\"]\n",
    "lista_tuplas_poblacion = dicc_tuplas[\"poblacion\"]\n",
    "lista_tuplas_provincias = dicc_tuplas[\"provincias\"]\n",
    "lista_tuplas_ramas = dicc_tuplas[\"ramas\"]\n",
    "lista_tuplas_tipos_energia = dicc_tuplas[\"tipos_energia\"]\n"
   ]
  },
  {
   "cell_type": "markdown",
   "metadata": {},
   "source": [
    "# Inserción de Tablas"
   ]
  },
  {
   "cell_type": "code",
   "execution_count": null,
   "metadata": {},
   "outputs": [],
   "source": [
    "sf.dbeaver_commit(sf.dbeaver_conexion(\"SistemaElectrico\"),sv.query_creacion_comunidades)"
   ]
  },
  {
   "cell_type": "code",
   "execution_count": null,
   "metadata": {},
   "outputs": [
    {
     "name": "stdout",
     "output_type": "stream",
     "text": [
      "Commit realizado\n"
     ]
    }
   ],
   "source": [
    "sf.dbeaver_commit(sf.dbeaver_conexion(\"SistemaElectrico\"),sv.query_creacion_ramas)"
   ]
  },
  {
   "cell_type": "code",
   "execution_count": 6,
   "metadata": {},
   "outputs": [
    {
     "name": "stdout",
     "output_type": "stream",
     "text": [
      "Commit realizado\n"
     ]
    }
   ],
   "source": [
    "sf.dbeaver_commit(sf.dbeaver_conexion(\"SistemaElectrico\"),sv.query_creacion_tipo_energia)"
   ]
  },
  {
   "cell_type": "code",
   "execution_count": 7,
   "metadata": {},
   "outputs": [
    {
     "name": "stdout",
     "output_type": "stream",
     "text": [
      "Commit realizado\n"
     ]
    }
   ],
   "source": [
    "sf.dbeaver_commit(sf.dbeaver_conexion(\"SistemaElectrico\"),sv.query_creacion_generacion)"
   ]
  },
  {
   "cell_type": "code",
   "execution_count": 8,
   "metadata": {},
   "outputs": [
    {
     "name": "stdout",
     "output_type": "stream",
     "text": [
      "Commit realizado\n"
     ]
    }
   ],
   "source": [
    "sf.dbeaver_commit(sf.dbeaver_conexion(\"SistemaElectrico\"),sv.query_creacion_demanda)"
   ]
  },
  {
   "cell_type": "code",
   "execution_count": 9,
   "metadata": {},
   "outputs": [
    {
     "name": "stdout",
     "output_type": "stream",
     "text": [
      "Commit realizado\n"
     ]
    }
   ],
   "source": [
    "sf.dbeaver_commit(sf.dbeaver_conexion(\"SistemaElectrico\"),sv.query_creacion_provincias)"
   ]
  },
  {
   "cell_type": "code",
   "execution_count": 10,
   "metadata": {},
   "outputs": [
    {
     "name": "stdout",
     "output_type": "stream",
     "text": [
      "Commit realizado\n"
     ]
    }
   ],
   "source": [
    "sf.dbeaver_commit(sf.dbeaver_conexion(\"SistemaElectrico\"),sv.query_creacion_edades)"
   ]
  },
  {
   "cell_type": "code",
   "execution_count": 11,
   "metadata": {},
   "outputs": [
    {
     "name": "stdout",
     "output_type": "stream",
     "text": [
      "Commit realizado\n"
     ]
    }
   ],
   "source": [
    "sf.dbeaver_commit(sf.dbeaver_conexion(\"SistemaElectrico\"),sv.query_creacion_poblacion)"
   ]
  },
  {
   "cell_type": "code",
   "execution_count": 12,
   "metadata": {},
   "outputs": [
    {
     "name": "stdout",
     "output_type": "stream",
     "text": [
      "Commit realizado\n"
     ]
    }
   ],
   "source": [
    "sf.dbeaver_commit(sf.dbeaver_conexion(\"SistemaElectrico\"),sv.query_creacion_pib_total)"
   ]
  },
  {
   "cell_type": "code",
   "execution_count": 13,
   "metadata": {},
   "outputs": [
    {
     "name": "stdout",
     "output_type": "stream",
     "text": [
      "Commit realizado\n"
     ]
    }
   ],
   "source": [
    "sf.dbeaver_commit(sf.dbeaver_conexion(\"SistemaElectrico\"),sv.query_creacion_pib)"
   ]
  },
  {
   "cell_type": "markdown",
   "metadata": {},
   "source": [
    "# Inserción de Datos"
   ]
  },
  {
   "cell_type": "code",
   "execution_count": 4,
   "metadata": {},
   "outputs": [
    {
     "name": "stdout",
     "output_type": "stream",
     "text": [
      "Commit realizado\n"
     ]
    }
   ],
   "source": [
    "sf.dbeaver_commitmany(sf.dbeaver_conexion(\"SistemaElectrico\"),sv.query_insercion_comunidades,lista_tuplas_comunidades)\n"
   ]
  },
  {
   "cell_type": "code",
   "execution_count": 5,
   "metadata": {},
   "outputs": [
    {
     "name": "stdout",
     "output_type": "stream",
     "text": [
      "Commit realizado\n"
     ]
    }
   ],
   "source": [
    "sf.dbeaver_commitmany(sf.dbeaver_conexion(\"SistemaElectrico\"),sv.query_insercion_ramas,lista_tuplas_ramas)"
   ]
  },
  {
   "cell_type": "code",
   "execution_count": 6,
   "metadata": {},
   "outputs": [
    {
     "name": "stdout",
     "output_type": "stream",
     "text": [
      "Commit realizado\n"
     ]
    }
   ],
   "source": [
    "sf.dbeaver_commitmany(sf.dbeaver_conexion(\"SistemaElectrico\"),sv.query_insercion_tipo_energia,lista_tuplas_tipos_energia)"
   ]
  },
  {
   "cell_type": "code",
   "execution_count": null,
   "metadata": {},
   "outputs": [
    {
     "name": "stdout",
     "output_type": "stream",
     "text": [
      "Commit realizado\n"
     ]
    }
   ],
   "source": [
    "sf.dbeaver_commitmany(sf.dbeaver_conexion(\"SistemaElectrico\"),sv.query_insercion_generacion,lista_tuplas_generacion)"
   ]
  },
  {
   "cell_type": "code",
   "execution_count": null,
   "metadata": {},
   "outputs": [
    {
     "name": "stdout",
     "output_type": "stream",
     "text": [
      "Commit realizado\n"
     ]
    }
   ],
   "source": [
    "sf.dbeaver_commitmany(sf.dbeaver_conexion(\"SistemaElectrico\"),sv.query_insercion_demanda,lista_tuplas_demanda)"
   ]
  },
  {
   "cell_type": "code",
   "execution_count": 9,
   "metadata": {},
   "outputs": [
    {
     "name": "stdout",
     "output_type": "stream",
     "text": [
      "Commit realizado\n"
     ]
    }
   ],
   "source": [
    "sf.dbeaver_commitmany(sf.dbeaver_conexion(\"SistemaElectrico\"),sv.query_insercion_provincias,lista_tuplas_provincias)\n"
   ]
  },
  {
   "cell_type": "code",
   "execution_count": 10,
   "metadata": {},
   "outputs": [
    {
     "name": "stdout",
     "output_type": "stream",
     "text": [
      "Commit realizado\n"
     ]
    }
   ],
   "source": [
    "sf.dbeaver_commitmany(sf.dbeaver_conexion(\"SistemaElectrico\"),sv.query_insercion_edades,lista_tuplas_edades)\n"
   ]
  },
  {
   "cell_type": "code",
   "execution_count": null,
   "metadata": {},
   "outputs": [
    {
     "name": "stdout",
     "output_type": "stream",
     "text": [
      "Commit realizado\n"
     ]
    }
   ],
   "source": [
    "sf.dbeaver_commitmany(sf.dbeaver_conexion(\"SistemaElectrico\"),sv.query_insercion_poblacion,lista_tuplas_poblacion)"
   ]
  },
  {
   "cell_type": "code",
   "execution_count": null,
   "metadata": {},
   "outputs": [
    {
     "name": "stdout",
     "output_type": "stream",
     "text": [
      "Commit realizado\n"
     ]
    }
   ],
   "source": [
    "sf.dbeaver_commitmany(sf.dbeaver_conexion(\"SistemaElectrico\"),sv.query_insercion_pib_total,lista_tuplas_pib_total)"
   ]
  },
  {
   "cell_type": "code",
   "execution_count": null,
   "metadata": {},
   "outputs": [
    {
     "name": "stdout",
     "output_type": "stream",
     "text": [
      "Commit realizado\n"
     ]
    }
   ],
   "source": [
    "sf.dbeaver_commitmany(sf.dbeaver_conexion(\"SistemaElectrico\"),sv.query_insercion_pib,lista_tuplas_pib)"
   ]
  }
 ],
 "metadata": {
  "kernelspec": {
   "display_name": "Python 3",
   "language": "python",
   "name": "python3"
  },
  "language_info": {
   "codemirror_mode": {
    "name": "ipython",
    "version": 3
   },
   "file_extension": ".py",
   "mimetype": "text/x-python",
   "name": "python",
   "nbconvert_exporter": "python",
   "pygments_lexer": "ipython3",
   "version": "3.9.6"
  }
 },
 "nbformat": 4,
 "nbformat_minor": 2
}
